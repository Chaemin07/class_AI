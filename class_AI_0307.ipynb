{
  "nbformat": 4,
  "nbformat_minor": 0,
  "metadata": {
    "colab": {
      "provenance": [],
      "authorship_tag": "ABX9TyOPHmeDnphMtN2yPY8OI+CZ",
      "include_colab_link": true
    },
    "kernelspec": {
      "name": "python3",
      "display_name": "Python 3"
    },
    "language_info": {
      "name": "python"
    }
  },
  "cells": [
    {
      "cell_type": "markdown",
      "metadata": {
        "id": "view-in-github",
        "colab_type": "text"
      },
      "source": [
        "<a href=\"https://colab.research.google.com/github/Chaemin07/class_AI/blob/main/class_AI_0307.ipynb\" target=\"_parent\"><img src=\"https://colab.research.google.com/assets/colab-badge.svg\" alt=\"Open In Colab\"/></a>"
      ]
    },
    {
      "cell_type": "code",
      "source": [
        "name = '채정민'\n",
        "age = 25\n",
        "print(\"이름은 : {}, 나이는 : {}\".format(name,age))\n",
        "print('강우협 강우협 강우협 강우협 강우협 강우협\\n강참치 강참치 강참치 강참치 강참치 강참치')"
      ],
      "metadata": {
        "id": "r0kUCORqkj7L",
        "colab": {
          "base_uri": "https://localhost:8080/"
        },
        "outputId": "9127489d-aefb-4d9d-996b-b36054da85fa"
      },
      "execution_count": 27,
      "outputs": [
        {
          "output_type": "stream",
          "name": "stdout",
          "text": [
            "이름은 : 채정민, 나이는 : 25\n",
            "강우협 강우협 강우협 강우협 강우협 강우협\n",
            "강참치 강참치 강참치 강참치 강참치 강참치\n"
          ]
        }
      ]
    },
    {
      "cell_type": "code",
      "source": [
        "for i in range (9):\n",
        "  print('------------------',i+1,'단----------------')\n",
        "  for j in range (9):\n",
        "    print('구구단 : ',i+1,'X',j+1,'=',(i+1)*(j+1),'입니다.')\n",
        "  "
      ],
      "metadata": {
        "colab": {
          "base_uri": "https://localhost:8080/"
        },
        "id": "OenuVrDunQu-",
        "outputId": "d8ae0eab-3473-4dce-dc62-5e418621abd1"
      },
      "execution_count": 20,
      "outputs": [
        {
          "output_type": "stream",
          "name": "stdout",
          "text": [
            "------------------ 1 단----------------\n",
            "구구단 :  1 X 1 = 1 입니다.\n",
            "구구단 :  1 X 2 = 2 입니다.\n",
            "구구단 :  1 X 3 = 3 입니다.\n",
            "구구단 :  1 X 4 = 4 입니다.\n",
            "구구단 :  1 X 5 = 5 입니다.\n",
            "구구단 :  1 X 6 = 6 입니다.\n",
            "구구단 :  1 X 7 = 7 입니다.\n",
            "구구단 :  1 X 8 = 8 입니다.\n",
            "구구단 :  1 X 9 = 9 입니다.\n",
            "------------------ 2 단----------------\n",
            "구구단 :  2 X 1 = 2 입니다.\n",
            "구구단 :  2 X 2 = 4 입니다.\n",
            "구구단 :  2 X 3 = 6 입니다.\n",
            "구구단 :  2 X 4 = 8 입니다.\n",
            "구구단 :  2 X 5 = 10 입니다.\n",
            "구구단 :  2 X 6 = 12 입니다.\n",
            "구구단 :  2 X 7 = 14 입니다.\n",
            "구구단 :  2 X 8 = 16 입니다.\n",
            "구구단 :  2 X 9 = 18 입니다.\n",
            "------------------ 3 단----------------\n",
            "구구단 :  3 X 1 = 3 입니다.\n",
            "구구단 :  3 X 2 = 6 입니다.\n",
            "구구단 :  3 X 3 = 9 입니다.\n",
            "구구단 :  3 X 4 = 12 입니다.\n",
            "구구단 :  3 X 5 = 15 입니다.\n",
            "구구단 :  3 X 6 = 18 입니다.\n",
            "구구단 :  3 X 7 = 21 입니다.\n",
            "구구단 :  3 X 8 = 24 입니다.\n",
            "구구단 :  3 X 9 = 27 입니다.\n",
            "------------------ 4 단----------------\n",
            "구구단 :  4 X 1 = 4 입니다.\n",
            "구구단 :  4 X 2 = 8 입니다.\n",
            "구구단 :  4 X 3 = 12 입니다.\n",
            "구구단 :  4 X 4 = 16 입니다.\n",
            "구구단 :  4 X 5 = 20 입니다.\n",
            "구구단 :  4 X 6 = 24 입니다.\n",
            "구구단 :  4 X 7 = 28 입니다.\n",
            "구구단 :  4 X 8 = 32 입니다.\n",
            "구구단 :  4 X 9 = 36 입니다.\n",
            "------------------ 5 단----------------\n",
            "구구단 :  5 X 1 = 5 입니다.\n",
            "구구단 :  5 X 2 = 10 입니다.\n",
            "구구단 :  5 X 3 = 15 입니다.\n",
            "구구단 :  5 X 4 = 20 입니다.\n",
            "구구단 :  5 X 5 = 25 입니다.\n",
            "구구단 :  5 X 6 = 30 입니다.\n",
            "구구단 :  5 X 7 = 35 입니다.\n",
            "구구단 :  5 X 8 = 40 입니다.\n",
            "구구단 :  5 X 9 = 45 입니다.\n",
            "------------------ 6 단----------------\n",
            "구구단 :  6 X 1 = 6 입니다.\n",
            "구구단 :  6 X 2 = 12 입니다.\n",
            "구구단 :  6 X 3 = 18 입니다.\n",
            "구구단 :  6 X 4 = 24 입니다.\n",
            "구구단 :  6 X 5 = 30 입니다.\n",
            "구구단 :  6 X 6 = 36 입니다.\n",
            "구구단 :  6 X 7 = 42 입니다.\n",
            "구구단 :  6 X 8 = 48 입니다.\n",
            "구구단 :  6 X 9 = 54 입니다.\n",
            "------------------ 7 단----------------\n",
            "구구단 :  7 X 1 = 7 입니다.\n",
            "구구단 :  7 X 2 = 14 입니다.\n",
            "구구단 :  7 X 3 = 21 입니다.\n",
            "구구단 :  7 X 4 = 28 입니다.\n",
            "구구단 :  7 X 5 = 35 입니다.\n",
            "구구단 :  7 X 6 = 42 입니다.\n",
            "구구단 :  7 X 7 = 49 입니다.\n",
            "구구단 :  7 X 8 = 56 입니다.\n",
            "구구단 :  7 X 9 = 63 입니다.\n",
            "------------------ 8 단----------------\n",
            "구구단 :  8 X 1 = 8 입니다.\n",
            "구구단 :  8 X 2 = 16 입니다.\n",
            "구구단 :  8 X 3 = 24 입니다.\n",
            "구구단 :  8 X 4 = 32 입니다.\n",
            "구구단 :  8 X 5 = 40 입니다.\n",
            "구구단 :  8 X 6 = 48 입니다.\n",
            "구구단 :  8 X 7 = 56 입니다.\n",
            "구구단 :  8 X 8 = 64 입니다.\n",
            "구구단 :  8 X 9 = 72 입니다.\n",
            "------------------ 9 단----------------\n",
            "구구단 :  9 X 1 = 9 입니다.\n",
            "구구단 :  9 X 2 = 18 입니다.\n",
            "구구단 :  9 X 3 = 27 입니다.\n",
            "구구단 :  9 X 4 = 36 입니다.\n",
            "구구단 :  9 X 5 = 45 입니다.\n",
            "구구단 :  9 X 6 = 54 입니다.\n",
            "구구단 :  9 X 7 = 63 입니다.\n",
            "구구단 :  9 X 8 = 72 입니다.\n",
            "구구단 :  9 X 9 = 81 입니다.\n"
          ]
        }
      ]
    },
    {
      "cell_type": "code",
      "source": [
        "exam = [60,80,95,69,90,81,80,69,79,66,70,90,96]\n",
        "exam = list(exam)"
      ],
      "metadata": {
        "id": "PhfcoKZGoGyh"
      },
      "execution_count": 29,
      "outputs": []
    },
    {
      "cell_type": "code",
      "source": [
        "for i in range (13):\n",
        "  if(exam[i]>= 90): print('당신의 성적은 {}이므로 점수는 A입니다.'.format(exam[i]))\n",
        "  elif (exam[i]>= 80 & exam[i]<90): print('당신의 성적은 {}이므로 점수는 B입니다.'.format(exam[i]))\n",
        "  elif (exam[i]>= 70 & exam[i]<80): print('당신의 성적은 {}이므로 점수는 C입니다.'.format(exam[i]))\n",
        "  elif (exam[i]>= 60 & exam[i]<70): print('당신의 성적은 {}이므로 점수는 D입니다.'.format(exam[i]))\n",
        "  else :print('당신의 성적은 {}이므로 점수는 F입니다.'.format(exam[i]))\n"
      ],
      "metadata": {
        "colab": {
          "base_uri": "https://localhost:8080/"
        },
        "id": "YDkkRHkAqFeK",
        "outputId": "d110c63b-9709-426d-a7fe-926d7baa20ae"
      },
      "execution_count": 47,
      "outputs": [
        {
          "output_type": "stream",
          "name": "stdout",
          "text": [
            "당신의 성적은 60이므로 점수는 B입니다.\n",
            "당신의 성적은 80이므로 점수는 B입니다.\n",
            "당신의 성적은 95이므로 점수는 A입니다.\n",
            "당신의 성적은 69이므로 점수는 B입니다.\n",
            "당신의 성적은 90이므로 점수는 A입니다.\n",
            "당신의 성적은 81이므로 점수는 B입니다.\n",
            "당신의 성적은 80이므로 점수는 B입니다.\n",
            "당신의 성적은 69이므로 점수는 B입니다.\n",
            "당신의 성적은 79이므로 점수는 B입니다.\n",
            "당신의 성적은 66이므로 점수는 B입니다.\n",
            "당신의 성적은 70이므로 점수는 B입니다.\n",
            "당신의 성적은 90이므로 점수는 A입니다.\n",
            "당신의 성적은 96이므로 점수는 A입니다.\n"
          ]
        }
      ]
    },
    {
      "cell_type": "code",
      "source": [
        "\n"
      ],
      "metadata": {
        "id": "723C9MWdrvhh"
      },
      "execution_count": 37,
      "outputs": []
    },
    {
      "cell_type": "code",
      "source": [
        "sum=0\n",
        "for i in range (1,11):\n",
        "  sum = sum +i\n",
        "  print('i의 값 : {}, 합계 : {}'.format(i,sum))"
      ],
      "metadata": {
        "colab": {
          "base_uri": "https://localhost:8080/"
        },
        "id": "ZRema5UmsMlL",
        "outputId": "0039e700-2209-49eb-9f7e-3f406bd9f479"
      },
      "execution_count": 41,
      "outputs": [
        {
          "output_type": "stream",
          "name": "stdout",
          "text": [
            "i의 값 : 1, 합계 : 1\n",
            "i의 값 : 2, 합계 : 3\n",
            "i의 값 : 3, 합계 : 6\n",
            "i의 값 : 4, 합계 : 10\n",
            "i의 값 : 5, 합계 : 15\n",
            "i의 값 : 6, 합계 : 21\n",
            "i의 값 : 7, 합계 : 28\n",
            "i의 값 : 8, 합계 : 36\n",
            "i의 값 : 9, 합계 : 45\n",
            "i의 값 : 10, 합계 : 55\n"
          ]
        }
      ]
    },
    {
      "cell_type": "code",
      "source": [
        "\n",
        "Money = input('짜장면 한 그릇은 10,000입니다. 주문을 해주세요')\n",
        "if(int(Money)>=10000):\n",
        "  print('구매가능')\n",
        "else : print('구매 불가능')"
      ],
      "metadata": {
        "colab": {
          "base_uri": "https://localhost:8080/"
        },
        "id": "tgOrqkfJuTYd",
        "outputId": "f1be300a-f152-4a79-9258-7c02d5282523"
      },
      "execution_count": 46,
      "outputs": [
        {
          "output_type": "stream",
          "name": "stdout",
          "text": [
            "짜장면 한 그릇은 10,000입니다. 주문을 해주세요12345\n",
            "구매가능\n"
          ]
        }
      ]
    },
    {
      "cell_type": "code",
      "source": [],
      "metadata": {
        "id": "VPW6a_OOvOQW"
      },
      "execution_count": null,
      "outputs": []
    }
  ]
}